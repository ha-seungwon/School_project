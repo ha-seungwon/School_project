{
 "cells": [
  {
   "cell_type": "code",
   "execution_count": null,
   "metadata": {},
   "outputs": [],
   "source": [
    "import pandas as pd\n",
    "import sklearn\n",
    "from sklearn import svm\n",
    "from sklearn.metrics import roc_auc_score\n",
    "import numpy as np\n",
    "from sklearn.model_selection import cross_validate,cross_val_score\n",
    "from sklearn.ensemble import RandomForestClassifier\n",
    "from sklearn.model_selection import RandomizedSearchCV\n",
    "import pprint as pp\n",
    "from sklearn.tree import DecisionTreeClassifier\n",
    "from sklearn import svm\n",
    "from sklearn.linear_model import LogisticRegression\n",
    "import xgboost as xgb\n",
    "\n",
    "df=pd.read_csv('liver.csv')\n",
    "df=df.fillna(0)"
   ]
  },
  {
   "cell_type": "markdown",
   "metadata": {},
   "source": [
    "# 1"
   ]
  },
  {
   "cell_type": "code",
   "execution_count": null,
   "metadata": {},
   "outputs": [],
   "source": [
    "model=svm.SVC(random_state=1234)\n",
    "X=df.drop('category',axis=1)\n",
    "y=df['category']\n",
    "\n",
    "\n",
    "svc_score=cross_val_score(model,X,y,cv=10,scoring='roc_auc')\n",
    "print(f\"fold scores are {svc_score}\")\n",
    "print(f\"mean score {np.mean(svc_score)}\")\n"
   ]
  },
  {
   "cell_type": "markdown",
   "metadata": {},
   "source": [
    "# 2"
   ]
  },
  {
   "cell_type": "code",
   "execution_count": null,
   "metadata": {},
   "outputs": [],
   "source": [
    "n_estimators= [int(x) for x in np.linspace(start = 200, stop = 2000,num = 10)]\n",
    "\n",
    "\n",
    "# Maximum number of levels in tree\n",
    "max_depth= [int(x) for x in np.linspace(10, 110, num = 11)]\n",
    "\n",
    "# Minimum number of samples required to split a node\n",
    "min_samples_split= [2, 5, 10]\n",
    "# Minimum number of samples required at each leaf node\n",
    "min_samples_leaf= [1, 2, 4]# Method of selecting samples for training each tree\n",
    "bootstrap = [True, False]\n",
    "\n",
    "random_grid= {'n_estimators': n_estimators,'max_depth': max_depth,'min_samples_split': min_samples_split,'min_samples_leaf': min_samples_leaf,'bootstrap': bootstrap}\n",
    "pp.pprint(random_grid)\n",
    "rf = RandomForestClassifier()\n",
    "rf_random= RandomizedSearchCV(estimator = rf, param_distributions= random_grid, n_iter= 100, cv = 10, verbose=2, random_state=1234, n_jobs= -1)\n",
    "rf_random.fit(X,y)"
   ]
  },
  {
   "cell_type": "code",
   "execution_count": null,
   "metadata": {},
   "outputs": [],
   "source": [
    "\n",
    "\n",
    "best_random_model= rf_random.best_estimator_\n",
    "print(best_random_model)\n"
   ]
  },
  {
   "cell_type": "code",
   "execution_count": null,
   "metadata": {},
   "outputs": [],
   "source": [
    "best_random_scores= cross_val_score(best_random_model,X,y,cv=10,scoring='f1')\n",
    "best_random_accuracy= np.mean(best_random_scores)\n",
    "\n",
    "print(f\"fold scores are {best_random_scores}\")\n",
    "print(f\"mean score {best_random_accuracy}\")\n"
   ]
  },
  {
   "cell_type": "markdown",
   "metadata": {},
   "source": [
    "# 3"
   ]
  },
  {
   "cell_type": "code",
   "execution_count": null,
   "metadata": {},
   "outputs": [],
   "source": [
    "model1=LogisticRegression()\n",
    "model2=DecisionTreeClassifier()\n",
    "model3=RandomForestClassifier()\n",
    "model4=svm.SVC()\n",
    "\n",
    "models=[model1,model2,model3,model4]\n",
    "names=['Logistic','Decisiontree','RandomForest','SVC']\n",
    "\n",
    "results=[]\n",
    "for index,model in enumerate(models):\n",
    "    result=cross_val_score(model,X,y,cv=10,scoring='roc_auc')\n",
    "    results.append(result)\n",
    "    print(f\"model: {names[index]}, model result: {result}\\n\")\n",
    "\n",
    "import matplotlib.pyplot as plt\n",
    "fig = plt.figure()\n",
    "fig.suptitle('Algorithm Comparison')\n",
    "ax = fig.add_subplot(111)\n",
    "plt.boxplot(results)\n",
    "ax.set_xticklabels(names)\n",
    "plt.show()\n"
   ]
  },
  {
   "cell_type": "markdown",
   "metadata": {},
   "source": [
    "# 4"
   ]
  },
  {
   "cell_type": "code",
   "execution_count": null,
   "metadata": {},
   "outputs": [],
   "source": [
    "\n",
    "model=xgb.XGBClassifier()\n",
    "\n",
    "\n",
    "model_score= cross_validate(model,X,y,cv=10,scoring=['accuracy','balanced_accuracy','roc_auc','f1'])\n",
    "\n",
    "print(f\"xgboost accuracy is {np.mean(model_score['test_accuracy'])}\")\n",
    "print(f\"xgboost balanced_accuracy is {np.mean(model_score['test_balanced_accuracy'])}\")\n",
    "print(f\"xgboost roc_auc is {np.mean(model_score['test_roc_auc'])}\")\n",
    "print(f\"xgboost f1 is {np.mean(model_score['test_f1'])}\")"
   ]
  },
  {
   "cell_type": "code",
   "execution_count": null,
   "metadata": {},
   "outputs": [],
   "source": []
  }
 ],
 "metadata": {
  "kernelspec": {
   "display_name": "base",
   "language": "python",
   "name": "python3"
  },
  "language_info": {
   "codemirror_mode": {
    "name": "ipython",
    "version": 3
   },
   "file_extension": ".py",
   "mimetype": "text/x-python",
   "name": "python",
   "nbconvert_exporter": "python",
   "pygments_lexer": "ipython3",
   "version": "3.11.4"
  },
  "orig_nbformat": 4
 },
 "nbformat": 4,
 "nbformat_minor": 2
}
