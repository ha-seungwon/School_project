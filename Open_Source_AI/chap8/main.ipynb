{
 "cells": [
  {
   "cell_type": "code",
   "execution_count": 1,
   "metadata": {},
   "outputs": [
    {
     "name": "stdout",
     "output_type": "stream",
     "text": [
      "[0.3 0.1 0.8]\n",
      "0.29\n",
      "[0.5 0.6 0.3]\n",
      "0.13\n",
      "[0.1 0.2 0.1]\n",
      "0.03\n",
      "[0.8 0.7 0.7]\n",
      "0.30000000000000004\n",
      "[0.5 0.5 0.6]\n",
      "0.22999999999999998\n"
     ]
    }
   ],
   "source": [
    "import numpy as np\n",
    "def myNN(x):\n",
    "    W = np.array([0.2, -0.1, 0.3])\n",
    "    b = 0\n",
    "    seta = 0\n",
    "    v = np.sum(x * W) + b\n",
    "\n",
    "    #activateion \n",
    "    y = v if v>seta else 0\n",
    "    return y\n",
    "\n",
    "\n",
    "\n",
    "ds = np.array([[0.3,0.1,0.8],\n",
    "               [0.5,0.6,0.3],\n",
    "               [0.1,0.2,0.1],\n",
    "               [0.8,0.7,0.7],\n",
    "               [0.5,0.5,0.6]])\n",
    "\n",
    "for i in range(5):\n",
    "    print(ds[i,:])\n",
    "    print(myNN(ds[i,:]))"
   ]
  },
  {
   "cell_type": "code",
   "execution_count": null,
   "metadata": {},
   "outputs": [],
   "source": []
  },
  {
   "cell_type": "code",
   "execution_count": null,
   "metadata": {},
   "outputs": [],
   "source": []
  }
 ],
 "metadata": {
  "kernelspec": {
   "display_name": "base",
   "language": "python",
   "name": "python3"
  },
  "language_info": {
   "codemirror_mode": {
    "name": "ipython",
    "version": 3
   },
   "file_extension": ".py",
   "mimetype": "text/x-python",
   "name": "python",
   "nbconvert_exporter": "python",
   "pygments_lexer": "ipython3",
   "version": "3.11.4"
  }
 },
 "nbformat": 4,
 "nbformat_minor": 2
}
