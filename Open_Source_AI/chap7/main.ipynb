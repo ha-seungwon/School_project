{
 "cells": [
  {
   "cell_type": "code",
   "execution_count": null,
   "metadata": {},
   "outputs": [],
   "source": [
    "import pandas as pd\n",
    "from sklearn.model_selection import cross_validate,cross_val_score\n",
    "from sklearn.ensemble import RandomForestClassifier\n",
    "from sklearn.tree import DecisionTreeClassifier\n",
    "from sklearn.linear_model import LogisticRegression\n",
    "from sklearn.pipeline import make_pipeline\n",
    "from sklearn.svm import LinearSVC\n",
    "from sklearn.preprocessing import StandardScaler"
   ]
  },
  {
   "cell_type": "code",
   "execution_count": null,
   "metadata": {},
   "outputs": [],
   "source": [
    "df=pd.read_csv('ch07_mobile_price.csv')\n",
    "model=RandomForestClassifier(random_state=1234)\n",
    "\n",
    "X=df.drop('price_range',axis=1)\n",
    "y=df['price_range']"
   ]
  },
  {
   "cell_type": "markdown",
   "metadata": {},
   "source": [
    "# filter method"
   ]
  },
  {
   "cell_type": "code",
   "execution_count": null,
   "metadata": {},
   "outputs": [],
   "source": [
    "from sklearn.feature_selection import SelectKBest\n",
    "from sklearn.feature_selection import chi2\n",
    "import numpy as np\n",
    "\n",
    "test = SelectKBest(score_func=chi2, k=X.shape[1])\n",
    "fit = test.fit(X, y)# summarize evaluation scores\n",
    "print(np.round(fit.scores_, 3))\n",
    "f_order= np.argsort(-fit.scores_)  # sort index by decreasing order\n",
    "sorted_columns= df.columns[f_order]"
   ]
  },
  {
   "cell_type": "code",
   "execution_count": null,
   "metadata": {},
   "outputs": [],
   "source": [
    "for i in range(1, X.shape[1]+1):\n",
    "    fs = sorted_columns[0:i]\n",
    "    df_X_selected= X[fs]\n",
    "    scores = cross_val_score(model, df_X_selected, y, cv=10)\n",
    "    print(fs.tolist())\n",
    "    print(np.round(scores.mean(), 4))\n"
   ]
  },
  {
   "cell_type": "markdown",
   "metadata": {},
   "source": [
    "# Backward elimination\n",
    "\n",
    "> 한개씩 feature 를 빼면서 선택한다\n"
   ]
  },
  {
   "cell_type": "code",
   "execution_count": null,
   "metadata": {},
   "outputs": [],
   "source": [
    "from sklearn.feature_selection import RFE\n",
    "import pandas as pd\n",
    "from sklearn.model_selection import cross_validate,cross_val_score\n",
    "\n",
    "\n",
    "for i in range(1,len(X.columns)):\n",
    "    print(i)\n",
    "    rfe= RFE(model, n_features_to_select=i)\n",
    "    fit = rfe.fit(X, y)\n",
    "    print(\"Num Features: %d\" % fit.n_features_)\n",
    "    fs = X.columns[fit.support_].tolist()   # selected features\n",
    "    print(\"Selected Features: %s\" % fs)\n",
    "    scores = cross_val_score(model, X[fs], y, cv=10)\n",
    "    print(\"Acc: \"+str(scores.mean()))\n",
    "\n",
    "\n",
    "#정확도가 가장 좋은 4개 피처를 선택"
   ]
  },
  {
   "cell_type": "markdown",
   "metadata": {},
   "source": [
    "# Forward selection\n",
    "> 한개씩 추가해서 "
   ]
  },
  {
   "cell_type": "code",
   "execution_count": null,
   "metadata": {},
   "outputs": [],
   "source": [
    "from mlxtend.feature_selection import SequentialFeatureSelector as SFS\n",
    "from sklearn.feature_selection import RFE\n",
    "import pandas as pd\n",
    "from sklearn.model_selection import cross_validate,cross_val_score\n",
    "\n",
    "#forward selection\n",
    "\n",
    "sfs1 = SFS(model, k_features=len(X.columns),          # number of features\n",
    "            verbose=2,scoring='accuracy',cv=10)\n",
    "sfs1 = sfs1.fit(X, y)\n",
    "print(sfs1.subsets_)             # selection process\n",
    "print(sfs1.k_feature_idx_)       # selected feature index  \n",
    "print(sfs1.k_feature_names_)\n",
    "\n",
    "\n",
    "scores = cross_val_score(model, X[list(sfs1.subsets_[5]['feature_names'])], y, cv=10)\n",
    "\n",
    "print(\"Acc: \"+str(scores.mean()))\n",
    "\n"
   ]
  },
  {
   "cell_type": "code",
   "execution_count": 87,
   "metadata": {},
   "outputs": [
    {
     "name": "stdout",
     "output_type": "stream",
     "text": [
      "0.9640000000000001\n"
     ]
    }
   ],
   "source": [
    "from sklearn.ensemble import StackingClassifier\n",
    "import warnings\n",
    "\n",
    "warnings.filterwarnings('ignore')\n",
    "\n",
    "\n",
    "estimators = [('rf', RandomForestClassifier()),\n",
    "              ('svr', make_pipeline(StandardScaler(),LinearSVC())),\n",
    "              ('dt', DecisionTreeClassifier())]\n",
    "# define model\n",
    "model_1 = StackingClassifier(estimators=estimators, final_estimator=LogisticRegression(max_iter=500))\n",
    "scores_1 = cross_val_score(model_1, X, y, cv=10)\n",
    "print(np.mean(scores_1))"
   ]
  }
 ],
 "metadata": {
  "kernelspec": {
   "display_name": "base",
   "language": "python",
   "name": "python3"
  },
  "language_info": {
   "codemirror_mode": {
    "name": "ipython",
    "version": 3
   },
   "file_extension": ".py",
   "mimetype": "text/x-python",
   "name": "python",
   "nbconvert_exporter": "python",
   "pygments_lexer": "ipython3",
   "version": "3.11.4"
  },
  "orig_nbformat": 4
 },
 "nbformat": 4,
 "nbformat_minor": 2
}
